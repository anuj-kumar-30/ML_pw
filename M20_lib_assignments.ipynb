{
 "cells": [
  {
   "cell_type": "markdown",
   "metadata": {},
   "source": [
    "# Assignment: 01"
   ]
  },
  {
   "cell_type": "markdown",
   "metadata": {},
   "source": [
    "#### Load the Iris dataset into a pandas DataFrame\n"
   ]
  },
  {
   "cell_type": "code",
   "execution_count": 3,
   "metadata": {},
   "outputs": [
    {
     "data": {
      "text/html": [
       "<div>\n",
       "<style scoped>\n",
       "    .dataframe tbody tr th:only-of-type {\n",
       "        vertical-align: middle;\n",
       "    }\n",
       "\n",
       "    .dataframe tbody tr th {\n",
       "        vertical-align: top;\n",
       "    }\n",
       "\n",
       "    .dataframe thead th {\n",
       "        text-align: right;\n",
       "    }\n",
       "</style>\n",
       "<table border=\"1\" class=\"dataframe\">\n",
       "  <thead>\n",
       "    <tr style=\"text-align: right;\">\n",
       "      <th></th>\n",
       "      <th>sepal_length</th>\n",
       "      <th>sepal_width</th>\n",
       "      <th>petal_length</th>\n",
       "      <th>petal_width</th>\n",
       "      <th>species</th>\n",
       "    </tr>\n",
       "  </thead>\n",
       "  <tbody>\n",
       "    <tr>\n",
       "      <th>0</th>\n",
       "      <td>5.1</td>\n",
       "      <td>3.5</td>\n",
       "      <td>1.4</td>\n",
       "      <td>0.2</td>\n",
       "      <td>setosa</td>\n",
       "    </tr>\n",
       "    <tr>\n",
       "      <th>1</th>\n",
       "      <td>4.9</td>\n",
       "      <td>3.0</td>\n",
       "      <td>1.4</td>\n",
       "      <td>0.2</td>\n",
       "      <td>setosa</td>\n",
       "    </tr>\n",
       "  </tbody>\n",
       "</table>\n",
       "</div>"
      ],
      "text/plain": [
       "   sepal_length  sepal_width  petal_length  petal_width species\n",
       "0           5.1          3.5           1.4          0.2  setosa\n",
       "1           4.9          3.0           1.4          0.2  setosa"
      ]
     },
     "execution_count": 3,
     "metadata": {},
     "output_type": "execute_result"
    }
   ],
   "source": [
    "import numpy as np \n",
    "import pandas as pd\n",
    "import seaborn as sns\n",
    "\n",
    "df = sns.load_dataset('iris')\n",
    "df.head(2)"
   ]
  },
  {
   "cell_type": "markdown",
   "metadata": {},
   "source": [
    "#### 1. Calculate the 75th percentile of the 'petal_width' column for each species in the Iris dataset.\n"
   ]
  },
  {
   "cell_type": "code",
   "execution_count": 4,
   "metadata": {},
   "outputs": [
    {
     "data": {
      "text/plain": [
       "np.float64(1.8)"
      ]
     },
     "execution_count": 4,
     "metadata": {},
     "output_type": "execute_result"
    }
   ],
   "source": [
    "df['petal_width'].quantile(0.75)"
   ]
  },
  {
   "cell_type": "markdown",
   "metadata": {},
   "source": [
    "#### 2. Create a new column in the Iris DataFrame called 'sepal_area', which is the product of 'sepal_length' and 'sepal_width'.\n"
   ]
  },
  {
   "cell_type": "code",
   "execution_count": 5,
   "metadata": {},
   "outputs": [
    {
     "data": {
      "text/html": [
       "<div>\n",
       "<style scoped>\n",
       "    .dataframe tbody tr th:only-of-type {\n",
       "        vertical-align: middle;\n",
       "    }\n",
       "\n",
       "    .dataframe tbody tr th {\n",
       "        vertical-align: top;\n",
       "    }\n",
       "\n",
       "    .dataframe thead th {\n",
       "        text-align: right;\n",
       "    }\n",
       "</style>\n",
       "<table border=\"1\" class=\"dataframe\">\n",
       "  <thead>\n",
       "    <tr style=\"text-align: right;\">\n",
       "      <th></th>\n",
       "      <th>sepal_length</th>\n",
       "      <th>sepal_width</th>\n",
       "      <th>petal_length</th>\n",
       "      <th>petal_width</th>\n",
       "      <th>species</th>\n",
       "      <th>sepal_area</th>\n",
       "    </tr>\n",
       "  </thead>\n",
       "  <tbody>\n",
       "    <tr>\n",
       "      <th>0</th>\n",
       "      <td>5.1</td>\n",
       "      <td>3.5</td>\n",
       "      <td>1.4</td>\n",
       "      <td>0.2</td>\n",
       "      <td>setosa</td>\n",
       "      <td>17.85</td>\n",
       "    </tr>\n",
       "    <tr>\n",
       "      <th>1</th>\n",
       "      <td>4.9</td>\n",
       "      <td>3.0</td>\n",
       "      <td>1.4</td>\n",
       "      <td>0.2</td>\n",
       "      <td>setosa</td>\n",
       "      <td>14.70</td>\n",
       "    </tr>\n",
       "  </tbody>\n",
       "</table>\n",
       "</div>"
      ],
      "text/plain": [
       "   sepal_length  sepal_width  petal_length  petal_width species  sepal_area\n",
       "0           5.1          3.5           1.4          0.2  setosa       17.85\n",
       "1           4.9          3.0           1.4          0.2  setosa       14.70"
      ]
     },
     "execution_count": 5,
     "metadata": {},
     "output_type": "execute_result"
    }
   ],
   "source": [
    "df['sepal_area'] = df['sepal_length']*df['sepal_width']\n",
    "df.head(2)"
   ]
  },
  {
   "cell_type": "markdown",
   "metadata": {},
   "source": [
    "#### 3. Remove all rows in the Iris DataFrame where 'petal_length' is greater than twice the standard deviation of 'petal_length' for that species.\n"
   ]
  },
  {
   "cell_type": "code",
   "execution_count": 9,
   "metadata": {},
   "outputs": [
    {
     "data": {
      "text/plain": [
       "np.float64(1.7652982332594662)"
      ]
     },
     "execution_count": 9,
     "metadata": {},
     "output_type": "execute_result"
    }
   ],
   "source": [
    "petal_length_std = df['petal_length'].std()\n",
    "petal_length_std"
   ]
  },
  {
   "cell_type": "code",
   "execution_count": 17,
   "metadata": {},
   "outputs": [],
   "source": [
    "df = df.drop(df[df['petal_length'] > 2*petal_length_std].index)"
   ]
  },
  {
   "cell_type": "markdown",
   "metadata": {},
   "source": [
    "#### 4. Normalize all numerical columns in the Iris DataFrame (except the 'species' column) using Min-Max scaling.\n"
   ]
  },
  {
   "cell_type": "code",
   "execution_count": 18,
   "metadata": {},
   "outputs": [
    {
     "data": {
      "text/plain": [
       "Index(['sepal_length', 'sepal_width', 'petal_length', 'petal_width', 'species',\n",
       "       'sepal_area'],\n",
       "      dtype='object')"
      ]
     },
     "execution_count": 18,
     "metadata": {},
     "output_type": "execute_result"
    }
   ],
   "source": [
    "df.columns"
   ]
  },
  {
   "cell_type": "code",
   "execution_count": 21,
   "metadata": {},
   "outputs": [],
   "source": [
    "from sklearn.preprocessing import MinMaxScaler\n",
    "\n",
    "scaler = MinMaxScaler()\n",
    "model = scaler.fit(df[['sepal_length', 'sepal_width', 'petal_length', 'petal_width','sepal_area']])\n",
    "scaled_data = model.transform(df[['sepal_length', 'sepal_width', 'petal_length', 'petal_width', 'sepal_area']])"
   ]
  },
  {
   "cell_type": "code",
   "execution_count": 23,
   "metadata": {},
   "outputs": [
    {
     "data": {
      "text/plain": [
       "array([[0.53333333, 0.625     , 0.16      , 0.1       , 0.52055703],\n",
       "       [0.4       , 0.41666667, 0.16      , 0.1       , 0.31167109],\n",
       "       [0.26666667, 0.5       , 0.12      , 0.1       , 0.33421751],\n",
       "       [0.2       , 0.45833333, 0.2       , 0.1       , 0.28249337],\n",
       "       [0.46666667, 0.66666667, 0.16      , 0.1       , 0.53050398],\n",
       "       [0.73333333, 0.79166667, 0.28      , 0.3       , 0.73342175],\n",
       "       [0.2       , 0.58333333, 0.16      , 0.2       , 0.37400531],\n",
       "       [0.46666667, 0.58333333, 0.2       , 0.1       , 0.46419098],\n",
       "       [0.06666667, 0.375     , 0.16      , 0.1       , 0.18302387],\n",
       "       [0.4       , 0.45833333, 0.2       , 0.        , 0.34416446],\n",
       "       [0.73333333, 0.70833333, 0.2       , 0.1       , 0.66180371],\n",
       "       [0.33333333, 0.58333333, 0.24      , 0.1       , 0.41909814],\n",
       "       [0.33333333, 0.41666667, 0.16      , 0.        , 0.29177719],\n",
       "       [0.        , 0.41666667, 0.04      , 0.        , 0.19230769],\n",
       "       [1.        , 0.83333333, 0.08      , 0.1       , 0.87533156],\n",
       "       [0.93333333, 1.        , 0.2       , 0.3       , 1.        ],\n",
       "       [0.73333333, 0.79166667, 0.12      , 0.3       , 0.73342175],\n",
       "       [0.53333333, 0.625     , 0.16      , 0.2       , 0.52055703],\n",
       "       [0.93333333, 0.75      , 0.28      , 0.2       , 0.77320955],\n",
       "       [0.53333333, 0.75      , 0.2       , 0.2       , 0.62201592],\n",
       "       [0.73333333, 0.58333333, 0.28      , 0.1       , 0.55437666],\n",
       "       [0.53333333, 0.70833333, 0.2       , 0.3       , 0.58819629],\n",
       "       [0.2       , 0.66666667, 0.        , 0.1       , 0.43501326],\n",
       "       [0.53333333, 0.54166667, 0.28      , 0.4       , 0.45291777],\n",
       "       [0.33333333, 0.58333333, 0.36      , 0.1       , 0.41909814],\n",
       "       [0.46666667, 0.41666667, 0.24      , 0.1       , 0.33156499],\n",
       "       [0.46666667, 0.58333333, 0.24      , 0.3       , 0.46419098],\n",
       "       [0.6       , 0.625     , 0.2       , 0.1       , 0.54376658],\n",
       "       [0.6       , 0.58333333, 0.16      , 0.1       , 0.50928382],\n",
       "       [0.26666667, 0.5       , 0.24      , 0.1       , 0.33421751],\n",
       "       [0.33333333, 0.45833333, 0.24      , 0.1       , 0.32360743],\n",
       "       [0.73333333, 0.58333333, 0.2       , 0.3       , 0.55437666],\n",
       "       [0.6       , 0.875     , 0.2       , 0.        , 0.75066313],\n",
       "       [0.8       , 0.91666667, 0.16      , 0.1       , 0.86870027],\n",
       "       [0.4       , 0.45833333, 0.2       , 0.1       , 0.34416446],\n",
       "       [0.46666667, 0.5       , 0.08      , 0.1       , 0.39787798],\n",
       "       [0.8       , 0.625     , 0.12      , 0.1       , 0.61339523],\n",
       "       [0.4       , 0.66666667, 0.16      , 0.        , 0.5066313 ],\n",
       "       [0.06666667, 0.41666667, 0.12      , 0.1       , 0.21220159],\n",
       "       [0.53333333, 0.58333333, 0.2       , 0.1       , 0.4867374 ],\n",
       "       [0.46666667, 0.625     , 0.12      , 0.2       , 0.49734748],\n",
       "       [0.13333333, 0.125     , 0.12      , 0.2       , 0.02320955],\n",
       "       [0.06666667, 0.5       , 0.12      , 0.1       , 0.27055703],\n",
       "       [0.46666667, 0.625     , 0.24      , 0.5       , 0.49734748],\n",
       "       [0.53333333, 0.75      , 0.36      , 0.3       , 0.62201592],\n",
       "       [0.33333333, 0.41666667, 0.16      , 0.2       , 0.29177719],\n",
       "       [0.53333333, 0.75      , 0.24      , 0.1       , 0.62201592],\n",
       "       [0.2       , 0.5       , 0.16      , 0.1       , 0.31299735],\n",
       "       [0.66666667, 0.70833333, 0.2       , 0.1       , 0.6372679 ],\n",
       "       [0.46666667, 0.54166667, 0.16      , 0.1       , 0.43103448],\n",
       "       [0.4       , 0.16666667, 0.92      , 0.9       , 0.11671088],\n",
       "       [0.46666667, 0.        , 1.        , 0.9       , 0.        ],\n",
       "       [0.93333333, 0.25      , 1.        , 0.9       , 0.31962865],\n",
       "       [0.46666667, 0.125     , 0.92      , 0.9       , 0.0994695 ],\n",
       "       [0.53333333, 0.20833333, 0.8       , 1.        , 0.18236074]])"
      ]
     },
     "execution_count": 23,
     "metadata": {},
     "output_type": "execute_result"
    }
   ],
   "source": [
    "scaled_data"
   ]
  },
  {
   "cell_type": "code",
   "execution_count": 80,
   "metadata": {},
   "outputs": [],
   "source": [
    "data = [[1, 'John', 100000, 6, '4/1/2006'], [2, 'Amy', 12000, 5, '5/1/2010'], [3, 'Mark', 65000, 12, '12/25/2008'], [4, 'Pam', 25000, 25, '1/1/2005'], [5, 'Alex', 5000, 10, '2/3/2007']]\n",
    "sales_person = pd.DataFrame(data, columns=['sales_id', 'name', 'salary', 'commission_rate', 'hire_date']).astype({'sales_id':'Int64', 'name':'object', 'salary':'Int64', 'commission_rate':'Int64', 'hire_date':'datetime64[ns]'})\n",
    "data = [[1, 'RED', 'Boston'], [2, 'ORANGE', 'New York'], [3, 'YELLOW', 'Boston'], [4, 'GREEN', 'Austin']]\n",
    "company = pd.DataFrame(data, columns=['com_id', 'name', 'city']).astype({'com_id':'Int64', 'name':'object', 'city':'object'})\n",
    "data = [[1, '1/1/2014', 3, 4, 10000], [2, '2/1/2014', 4, 5, 5000], [3, '3/1/2014', 1, 1, 50000], [4, '4/1/2014', 1, 4, 25000]]\n",
    "orders = pd.DataFrame(data, columns=['order_id', 'order_date', 'com_id', 'sales_id', 'amount']).astype({'order_id':'Int64', 'order_date':'datetime64[ns]', 'com_id':'Int64', 'sales_id':'Int64', 'amount':'Int64'})\n"
   ]
  },
  {
   "cell_type": "code",
   "execution_count": 81,
   "metadata": {},
   "outputs": [
    {
     "data": {
      "text/html": [
       "<div>\n",
       "<style scoped>\n",
       "    .dataframe tbody tr th:only-of-type {\n",
       "        vertical-align: middle;\n",
       "    }\n",
       "\n",
       "    .dataframe tbody tr th {\n",
       "        vertical-align: top;\n",
       "    }\n",
       "\n",
       "    .dataframe thead th {\n",
       "        text-align: right;\n",
       "    }\n",
       "</style>\n",
       "<table border=\"1\" class=\"dataframe\">\n",
       "  <thead>\n",
       "    <tr style=\"text-align: right;\">\n",
       "      <th></th>\n",
       "      <th>sales_id</th>\n",
       "      <th>name</th>\n",
       "      <th>salary</th>\n",
       "      <th>commission_rate</th>\n",
       "      <th>hire_date</th>\n",
       "    </tr>\n",
       "  </thead>\n",
       "  <tbody>\n",
       "    <tr>\n",
       "      <th>0</th>\n",
       "      <td>1</td>\n",
       "      <td>John</td>\n",
       "      <td>100000</td>\n",
       "      <td>6</td>\n",
       "      <td>2006-04-01</td>\n",
       "    </tr>\n",
       "    <tr>\n",
       "      <th>1</th>\n",
       "      <td>2</td>\n",
       "      <td>Amy</td>\n",
       "      <td>12000</td>\n",
       "      <td>5</td>\n",
       "      <td>2010-05-01</td>\n",
       "    </tr>\n",
       "    <tr>\n",
       "      <th>2</th>\n",
       "      <td>3</td>\n",
       "      <td>Mark</td>\n",
       "      <td>65000</td>\n",
       "      <td>12</td>\n",
       "      <td>2008-12-25</td>\n",
       "    </tr>\n",
       "    <tr>\n",
       "      <th>3</th>\n",
       "      <td>4</td>\n",
       "      <td>Pam</td>\n",
       "      <td>25000</td>\n",
       "      <td>25</td>\n",
       "      <td>2005-01-01</td>\n",
       "    </tr>\n",
       "    <tr>\n",
       "      <th>4</th>\n",
       "      <td>5</td>\n",
       "      <td>Alex</td>\n",
       "      <td>5000</td>\n",
       "      <td>10</td>\n",
       "      <td>2007-02-03</td>\n",
       "    </tr>\n",
       "  </tbody>\n",
       "</table>\n",
       "</div>"
      ],
      "text/plain": [
       "   sales_id  name  salary  commission_rate  hire_date\n",
       "0         1  John  100000                6 2006-04-01\n",
       "1         2   Amy   12000                5 2010-05-01\n",
       "2         3  Mark   65000               12 2008-12-25\n",
       "3         4   Pam   25000               25 2005-01-01\n",
       "4         5  Alex    5000               10 2007-02-03"
      ]
     },
     "execution_count": 81,
     "metadata": {},
     "output_type": "execute_result"
    }
   ],
   "source": [
    "sales_person"
   ]
  },
  {
   "cell_type": "code",
   "execution_count": 82,
   "metadata": {},
   "outputs": [
    {
     "data": {
      "text/html": [
       "<div>\n",
       "<style scoped>\n",
       "    .dataframe tbody tr th:only-of-type {\n",
       "        vertical-align: middle;\n",
       "    }\n",
       "\n",
       "    .dataframe tbody tr th {\n",
       "        vertical-align: top;\n",
       "    }\n",
       "\n",
       "    .dataframe thead th {\n",
       "        text-align: right;\n",
       "    }\n",
       "</style>\n",
       "<table border=\"1\" class=\"dataframe\">\n",
       "  <thead>\n",
       "    <tr style=\"text-align: right;\">\n",
       "      <th></th>\n",
       "      <th>com_id</th>\n",
       "      <th>name</th>\n",
       "      <th>city</th>\n",
       "    </tr>\n",
       "  </thead>\n",
       "  <tbody>\n",
       "    <tr>\n",
       "      <th>0</th>\n",
       "      <td>1</td>\n",
       "      <td>RED</td>\n",
       "      <td>Boston</td>\n",
       "    </tr>\n",
       "    <tr>\n",
       "      <th>1</th>\n",
       "      <td>2</td>\n",
       "      <td>ORANGE</td>\n",
       "      <td>New York</td>\n",
       "    </tr>\n",
       "    <tr>\n",
       "      <th>2</th>\n",
       "      <td>3</td>\n",
       "      <td>YELLOW</td>\n",
       "      <td>Boston</td>\n",
       "    </tr>\n",
       "    <tr>\n",
       "      <th>3</th>\n",
       "      <td>4</td>\n",
       "      <td>GREEN</td>\n",
       "      <td>Austin</td>\n",
       "    </tr>\n",
       "  </tbody>\n",
       "</table>\n",
       "</div>"
      ],
      "text/plain": [
       "   com_id    name      city\n",
       "0       1     RED    Boston\n",
       "1       2  ORANGE  New York\n",
       "2       3  YELLOW    Boston\n",
       "3       4   GREEN    Austin"
      ]
     },
     "execution_count": 82,
     "metadata": {},
     "output_type": "execute_result"
    }
   ],
   "source": [
    "company"
   ]
  },
  {
   "cell_type": "code",
   "execution_count": 83,
   "metadata": {},
   "outputs": [
    {
     "data": {
      "text/html": [
       "<div>\n",
       "<style scoped>\n",
       "    .dataframe tbody tr th:only-of-type {\n",
       "        vertical-align: middle;\n",
       "    }\n",
       "\n",
       "    .dataframe tbody tr th {\n",
       "        vertical-align: top;\n",
       "    }\n",
       "\n",
       "    .dataframe thead th {\n",
       "        text-align: right;\n",
       "    }\n",
       "</style>\n",
       "<table border=\"1\" class=\"dataframe\">\n",
       "  <thead>\n",
       "    <tr style=\"text-align: right;\">\n",
       "      <th></th>\n",
       "      <th>order_id</th>\n",
       "      <th>order_date</th>\n",
       "      <th>com_id</th>\n",
       "      <th>sales_id</th>\n",
       "      <th>amount</th>\n",
       "    </tr>\n",
       "  </thead>\n",
       "  <tbody>\n",
       "    <tr>\n",
       "      <th>0</th>\n",
       "      <td>1</td>\n",
       "      <td>2014-01-01</td>\n",
       "      <td>3</td>\n",
       "      <td>4</td>\n",
       "      <td>10000</td>\n",
       "    </tr>\n",
       "    <tr>\n",
       "      <th>1</th>\n",
       "      <td>2</td>\n",
       "      <td>2014-02-01</td>\n",
       "      <td>4</td>\n",
       "      <td>5</td>\n",
       "      <td>5000</td>\n",
       "    </tr>\n",
       "    <tr>\n",
       "      <th>2</th>\n",
       "      <td>3</td>\n",
       "      <td>2014-03-01</td>\n",
       "      <td>1</td>\n",
       "      <td>1</td>\n",
       "      <td>50000</td>\n",
       "    </tr>\n",
       "    <tr>\n",
       "      <th>3</th>\n",
       "      <td>4</td>\n",
       "      <td>2014-04-01</td>\n",
       "      <td>1</td>\n",
       "      <td>4</td>\n",
       "      <td>25000</td>\n",
       "    </tr>\n",
       "  </tbody>\n",
       "</table>\n",
       "</div>"
      ],
      "text/plain": [
       "   order_id order_date  com_id  sales_id  amount\n",
       "0         1 2014-01-01       3         4   10000\n",
       "1         2 2014-02-01       4         5    5000\n",
       "2         3 2014-03-01       1         1   50000\n",
       "3         4 2014-04-01       1         4   25000"
      ]
     },
     "execution_count": 83,
     "metadata": {},
     "output_type": "execute_result"
    }
   ],
   "source": [
    "orders"
   ]
  },
  {
   "cell_type": "code",
   "execution_count": null,
   "metadata": {},
   "outputs": [],
   "source": [
    "company"
   ]
  }
 ],
 "metadata": {
  "kernelspec": {
   "display_name": "Python 3",
   "language": "python",
   "name": "python3"
  },
  "language_info": {
   "codemirror_mode": {
    "name": "ipython",
    "version": 3
   },
   "file_extension": ".py",
   "mimetype": "text/x-python",
   "name": "python",
   "nbconvert_exporter": "python",
   "pygments_lexer": "ipython3",
   "version": "3.13.2"
  }
 },
 "nbformat": 4,
 "nbformat_minor": 2
}
