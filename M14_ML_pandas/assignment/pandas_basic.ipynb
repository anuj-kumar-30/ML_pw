{
 "cells": [
  {
   "cell_type": "code",
   "execution_count": 1,
   "metadata": {},
   "outputs": [],
   "source": [
    "import pandas as pd"
   ]
  },
  {
   "cell_type": "markdown",
   "metadata": {},
   "source": [
    "### Q1. Create a Pandas Series that contains the following data: 4, 8, 15, 16, 23, and 42. Then, print the series."
   ]
  },
  {
   "cell_type": "code",
   "execution_count": 3,
   "metadata": {},
   "outputs": [
    {
     "data": {
      "text/plain": [
       "0     4\n",
       "1     8\n",
       "2    15\n",
       "3    16\n",
       "4    23\n",
       "5    42\n",
       "dtype: int64"
      ]
     },
     "execution_count": 3,
     "metadata": {},
     "output_type": "execute_result"
    }
   ],
   "source": [
    "data = [4, 8, 15, 16, 23, 42]\n",
    "s = pd.Series(data)\n",
    "s"
   ]
  },
  {
   "cell_type": "markdown",
   "metadata": {},
   "source": [
    "### Q2. Create a variable of list type containing 10 elements in it, and apply pandas.Series function on the variable print it."
   ]
  },
  {
   "cell_type": "code",
   "execution_count": 4,
   "metadata": {},
   "outputs": [
    {
     "data": {
      "text/plain": [
       "0    0\n",
       "1    1\n",
       "2    2\n",
       "3    3\n",
       "4    4\n",
       "5    5\n",
       "6    6\n",
       "7    7\n",
       "8    8\n",
       "9    9\n",
       "dtype: int64"
      ]
     },
     "execution_count": 4,
     "metadata": {},
     "output_type": "execute_result"
    }
   ],
   "source": [
    "data = [i for i in range(10)]\n",
    "s2 = pd.Series(data)\n",
    "s2"
   ]
  },
  {
   "cell_type": "markdown",
   "metadata": {},
   "source": [
    "### Q3. Create a Pandas DataFrame that contains the following data:\n",
    "### Then, print the DataFrame."
   ]
  },
  {
   "cell_type": "code",
   "execution_count": 5,
   "metadata": {},
   "outputs": [
    {
     "data": {
      "text/html": [
       "<div>\n",
       "<style scoped>\n",
       "    .dataframe tbody tr th:only-of-type {\n",
       "        vertical-align: middle;\n",
       "    }\n",
       "\n",
       "    .dataframe tbody tr th {\n",
       "        vertical-align: top;\n",
       "    }\n",
       "\n",
       "    .dataframe thead th {\n",
       "        text-align: right;\n",
       "    }\n",
       "</style>\n",
       "<table border=\"1\" class=\"dataframe\">\n",
       "  <thead>\n",
       "    <tr style=\"text-align: right;\">\n",
       "      <th></th>\n",
       "      <th>Name</th>\n",
       "      <th>Age</th>\n",
       "      <th>Gender</th>\n",
       "    </tr>\n",
       "  </thead>\n",
       "  <tbody>\n",
       "    <tr>\n",
       "      <th>0</th>\n",
       "      <td>Alice</td>\n",
       "      <td>25</td>\n",
       "      <td>Female</td>\n",
       "    </tr>\n",
       "    <tr>\n",
       "      <th>1</th>\n",
       "      <td>Bob</td>\n",
       "      <td>30</td>\n",
       "      <td>Male</td>\n",
       "    </tr>\n",
       "    <tr>\n",
       "      <th>2</th>\n",
       "      <td>Claire</td>\n",
       "      <td>27</td>\n",
       "      <td>Female</td>\n",
       "    </tr>\n",
       "  </tbody>\n",
       "</table>\n",
       "</div>"
      ],
      "text/plain": [
       "     Name  Age  Gender\n",
       "0   Alice   25  Female\n",
       "1     Bob   30    Male\n",
       "2  Claire   27  Female"
      ]
     },
     "execution_count": 5,
     "metadata": {},
     "output_type": "execute_result"
    }
   ],
   "source": [
    "data = {\n",
    "    'Name': ['Alice', 'Bob', 'Claire'],\n",
    "    'Age': [25, 30, 27],\n",
    "    'Gender': ['Female', 'Male', 'Female']\n",
    "}\n",
    "df1 = pd.DataFrame(data)\n",
    "df1"
   ]
  },
  {
   "cell_type": "markdown",
   "metadata": {},
   "source": [
    "### Q4. What is ‘DataFrame’ in pandas and how is it different from pandas.series? Explain with an example."
   ]
  },
  {
   "cell_type": "code",
   "execution_count": 6,
   "metadata": {},
   "outputs": [
    {
     "name": "stdout",
     "output_type": "stream",
     "text": [
      "Pandas Series Example:\n",
      "0    1\n",
      "1    2\n",
      "2    3\n",
      "3    4\n",
      "4    5\n",
      "dtype: int64\n",
      "\n",
      "Type: <class 'pandas.core.series.Series'>\n",
      "Shape: (5,)\n",
      "Dimensions: 1\n",
      "\n",
      "==================================================\n",
      "\n",
      "Pandas DataFrame Example:\n",
      "   Column1 Column2  Column3\n",
      "0        1       A     True\n",
      "1        2       B    False\n",
      "2        3       C     True\n",
      "3        4       D     True\n",
      "4        5       E    False\n",
      "\n",
      "Type: <class 'pandas.core.frame.DataFrame'>\n",
      "Shape: (5, 3)\n",
      "Dimensions: 2\n",
      "\n",
      "Key Differences between Series and DataFrame:\n",
      "1. Series is 1-dimensional while DataFrame is 2-dimensional\n",
      "2. Series represents a single column while DataFrame can have multiple columns\n",
      "3. DataFrame can store different data types per column, Series typically contains same type\n",
      "4. DataFrame has labeled columns and rows, Series has only index labels\n"
     ]
    }
   ],
   "source": [
    "# Create example Series\n",
    "series_data = [1, 2, 3, 4, 5]\n",
    "series_example = pd.Series(series_data)\n",
    "print(\"Pandas Series Example:\")\n",
    "print(series_example)\n",
    "print(\"\\nType:\", type(series_example))\n",
    "print(\"Shape:\", series_example.shape)\n",
    "print(\"Dimensions:\", series_example.ndim)\n",
    "\n",
    "print(\"\\n\" + \"=\"*50 + \"\\n\")\n",
    "\n",
    "# Create example DataFrame\n",
    "df_data = {\n",
    "    'Column1': [1, 2, 3, 4, 5],\n",
    "    'Column2': ['A', 'B', 'C', 'D', 'E'],\n",
    "    'Column3': [True, False, True, True, False]\n",
    "}\n",
    "df_example = pd.DataFrame(df_data)\n",
    "print(\"Pandas DataFrame Example:\")\n",
    "print(df_example)\n",
    "print(\"\\nType:\", type(df_example))\n",
    "print(\"Shape:\", df_example.shape)\n",
    "print(\"Dimensions:\", df_example.ndim)\n",
    "\n",
    "# Key differences explanation\n",
    "print(\"\\nKey Differences between Series and DataFrame:\")\n",
    "print(\"1. Series is 1-dimensional while DataFrame is 2-dimensional\")\n",
    "print(\"2. Series represents a single column while DataFrame can have multiple columns\")\n",
    "print(\"3. DataFrame can store different data types per column, Series typically contains same type\")\n",
    "print(\"4. DataFrame has labeled columns and rows, Series has only index labels\")\n"
   ]
  },
  {
   "cell_type": "markdown",
   "metadata": {},
   "source": [
    "### Q5. What are some common functions you can use to manipulate data in a Pandas DataFrame? Can you give an example of when you might use one of these functions?"
   ]
  },
  {
   "cell_type": "code",
   "execution_count": 7,
   "metadata": {},
   "outputs": [
    {
     "name": "stdout",
     "output_type": "stream",
     "text": [
      "Original DataFrame:\n",
      "    Name   Age   Salary\n",
      "0   John  25.0  50000.0\n",
      "1   Emma  30.0  60000.0\n",
      "2   Mike   NaN  45000.0\n",
      "3   None  35.0  70000.0\n",
      "4  Sarah  28.0      NaN\n",
      "\n",
      "\n",
      "After fillna():\n",
      "      Name      Age   Salary\n",
      "0     John     25.0  50000.0\n",
      "1     Emma     30.0  60000.0\n",
      "2     Mike  Missing  45000.0\n",
      "3  Missing     35.0  70000.0\n",
      "4    Sarah     28.0  Missing\n",
      "\n",
      "\n",
      "After dropna():\n",
      "   Name   Age   Salary\n",
      "0  John  25.0  50000.0\n",
      "1  Emma  30.0  60000.0\n",
      "\n",
      "\n",
      "After sort_values():\n",
      "    Name   Age   Salary\n",
      "3   None  35.0  70000.0\n",
      "1   Emma  30.0  60000.0\n",
      "4  Sarah  28.0      NaN\n",
      "0   John  25.0  50000.0\n",
      "2   Mike   NaN  45000.0\n",
      "\n",
      "\n",
      "After groupby() and mean():\n",
      "Age\n",
      "25.0    50000.0\n",
      "28.0        NaN\n",
      "30.0    60000.0\n",
      "35.0    70000.0\n",
      "Name: Salary, dtype: float64\n",
      "\n",
      "\n",
      "After apply():\n",
      "    Name   Age   Salary  Salary_K\n",
      "0   John  25.0  50000.0      50.0\n",
      "1   Emma  30.0  60000.0      60.0\n",
      "2   Mike   NaN  45000.0      45.0\n",
      "3   None  35.0  70000.0      70.0\n",
      "4  Sarah  28.0      NaN       NaN\n"
     ]
    }
   ],
   "source": [
    "# Create example DataFrame with missing values\n",
    "df = pd.DataFrame({\n",
    "    'Name': ['John', 'Emma', 'Mike', None, 'Sarah'],\n",
    "    'Age': [25, 30, None, 35, 28],\n",
    "    'Salary': [50000, 60000, 45000, 70000, None]\n",
    "})\n",
    "\n",
    "print(\"Original DataFrame:\")\n",
    "print(df)\n",
    "print(\"\\n\")\n",
    "\n",
    "# 1. fillna() - Fill missing values\n",
    "df_filled = df.fillna(\"Missing\")\n",
    "print(\"After fillna():\")\n",
    "print(df_filled)\n",
    "print(\"\\n\")\n",
    "\n",
    "# 2. drop() - Remove rows with missing values\n",
    "df_dropped = df.dropna()\n",
    "print(\"After dropna():\")\n",
    "print(df_dropped)\n",
    "print(\"\\n\")\n",
    "\n",
    "# 3. sort_values() - Sort by a column\n",
    "df_sorted = df.sort_values('Age', ascending=False)\n",
    "print(\"After sort_values():\")\n",
    "print(df_sorted)\n",
    "print(\"\\n\")\n",
    "\n",
    "# 4. groupby() - Group and aggregate data\n",
    "df_grouped = df.groupby('Age')['Salary'].mean()\n",
    "print(\"After groupby() and mean():\")\n",
    "print(df_grouped)\n",
    "print(\"\\n\")\n",
    "\n",
    "# 5. apply() - Apply custom function to data\n",
    "df['Salary_K'] = df['Salary'].apply(lambda x: x/1000 if pd.notnull(x) else None)\n",
    "print(\"After apply():\")\n",
    "print(df)"
   ]
  },
  {
   "cell_type": "markdown",
   "metadata": {},
   "source": [
    "### Q6. Which of the following is mutable in nature Series, DataFrame, Panel?"
   ]
  },
  {
   "cell_type": "code",
   "execution_count": 8,
   "metadata": {},
   "outputs": [
    {
     "name": "stdout",
     "output_type": "stream",
     "text": [
      "Original Series:\n",
      "0    1\n",
      "1    2\n",
      "2    3\n",
      "3    4\n",
      "4    5\n",
      "dtype: int64\n",
      "\n",
      "After modifying Series:\n",
      "0    10\n",
      "1     2\n",
      "2     3\n",
      "3     4\n",
      "4     5\n",
      "dtype: int64\n",
      "\n",
      "Original DataFrame:\n",
      "   A  B\n",
      "0  1  4\n",
      "1  2  5\n",
      "2  3  6\n",
      "\n",
      "After modifying DataFrame:\n",
      "     A  B\n",
      "0  100  4\n",
      "1    2  5\n",
      "2    3  6\n",
      "\n",
      "Note: Panel has been deprecated in pandas since version 0.25.0\n",
      "Both Series and DataFrame are mutable in nature.\n"
     ]
    }
   ],
   "source": [
    "# Create a Series\n",
    "s = pd.Series([1, 2, 3, 4, 5])\n",
    "print(\"Original Series:\")\n",
    "print(s)\n",
    "\n",
    "# Demonstrate mutability by modifying values\n",
    "s[0] = 10\n",
    "print(\"\\nAfter modifying Series:\")\n",
    "print(s)\n",
    "\n",
    "# Create a DataFrame\n",
    "df = pd.DataFrame({\n",
    "    'A': [1, 2, 3],\n",
    "    'B': [4, 5, 6]\n",
    "})\n",
    "print(\"\\nOriginal DataFrame:\")\n",
    "print(df)\n",
    "\n",
    "# Demonstrate mutability by modifying values\n",
    "df.loc[0, 'A'] = 100\n",
    "print(\"\\nAfter modifying DataFrame:\")\n",
    "print(df)\n",
    "\n",
    "# Note: Panel is deprecated in newer versions of pandas\n",
    "print(\"\\nNote: Panel has been deprecated in pandas since version 0.25.0\")\n",
    "print(\"Both Series and DataFrame are mutable in nature.\")\n"
   ]
  },
  {
   "cell_type": "markdown",
   "metadata": {},
   "source": [
    "### Q7. Create a DataFrame using multiple Series. Explain with an example."
   ]
  },
  {
   "cell_type": "code",
   "execution_count": 17,
   "metadata": {},
   "outputs": [
    {
     "data": {
      "text/html": [
       "<div>\n",
       "<style scoped>\n",
       "    .dataframe tbody tr th:only-of-type {\n",
       "        vertical-align: middle;\n",
       "    }\n",
       "\n",
       "    .dataframe tbody tr th {\n",
       "        vertical-align: top;\n",
       "    }\n",
       "\n",
       "    .dataframe thead th {\n",
       "        text-align: right;\n",
       "    }\n",
       "</style>\n",
       "<table border=\"1\" class=\"dataframe\">\n",
       "  <thead>\n",
       "    <tr style=\"text-align: right;\">\n",
       "      <th></th>\n",
       "      <th>Id</th>\n",
       "      <th>Name</th>\n",
       "    </tr>\n",
       "  </thead>\n",
       "  <tbody>\n",
       "    <tr>\n",
       "      <th>0</th>\n",
       "      <td>1</td>\n",
       "      <td>Anuj</td>\n",
       "    </tr>\n",
       "    <tr>\n",
       "      <th>1</th>\n",
       "      <td>2</td>\n",
       "      <td>Ashish</td>\n",
       "    </tr>\n",
       "    <tr>\n",
       "      <th>2</th>\n",
       "      <td>3</td>\n",
       "      <td>Adarsh</td>\n",
       "    </tr>\n",
       "    <tr>\n",
       "      <th>3</th>\n",
       "      <td>4</td>\n",
       "      <td>Alok</td>\n",
       "    </tr>\n",
       "    <tr>\n",
       "      <th>4</th>\n",
       "      <td>5</td>\n",
       "      <td>NaN</td>\n",
       "    </tr>\n",
       "  </tbody>\n",
       "</table>\n",
       "</div>"
      ],
      "text/plain": [
       "   Id    Name\n",
       "0   1    Anuj\n",
       "1   2  Ashish\n",
       "2   3  Adarsh\n",
       "3   4    Alok\n",
       "4   5     NaN"
      ]
     },
     "execution_count": 17,
     "metadata": {},
     "output_type": "execute_result"
    }
   ],
   "source": [
    "s1 = pd.Series([1,2,3,4,5])\n",
    "s2 = pd.Series(['Anuj', 'Ashish', 'Adarsh', 'Alok'])\n",
    "pd.DataFrame({\n",
    "    'Id': s1,\n",
    "    'Name': s2\n",
    "})"
   ]
  },
  {
   "cell_type": "code",
   "execution_count": 13,
   "metadata": {},
   "outputs": [
    {
     "name": "stdout",
     "output_type": "stream",
     "text": [
      "DataFrame created from multiple Series:\n",
      "    Name  Age      City\n",
      "0   John   25  New York\n",
      "1  Alice   30    London\n",
      "2    Bob   35     Paris\n",
      "\n",
      "Explanation:\n",
      "1. We created 3 separate Series with names: age, name and city\n",
      "2. Each Series has the same length but different data types\n",
      "3. We combined them into a DataFrame using pd.DataFrame()\n",
      "4. The Series names became column names in the DataFrame\n"
     ]
    }
   ],
   "source": [
    "# Create individual Series\n",
    "age = pd.Series([25, 30, 35], name='Age')\n",
    "name = pd.Series(['John', 'Alice', 'Bob'], name='Name') \n",
    "city = pd.Series(['New York', 'London', 'Paris'], name='City')\n",
    "\n",
    "# Create DataFrame from multiple Series\n",
    "df = pd.DataFrame({\n",
    "    'Name': name,\n",
    "    'Age': age, \n",
    "    'City': city\n",
    "})\n",
    "\n",
    "print(\"DataFrame created from multiple Series:\")\n",
    "print(df)\n",
    "\n",
    "# Explanation:\n",
    "print(\"\\nExplanation:\")\n",
    "print(\"1. We created 3 separate Series with names: age, name and city\")\n",
    "print(\"2. Each Series has the same length but different data types\")\n",
    "print(\"3. We combined them into a DataFrame using pd.DataFrame()\")\n",
    "print(\"4. The Series names became column names in the DataFrame\")\n"
   ]
  },
  {
   "cell_type": "code",
   "execution_count": null,
   "metadata": {},
   "outputs": [],
   "source": []
  }
 ],
 "metadata": {
  "kernelspec": {
   "display_name": "Python 3",
   "language": "python",
   "name": "python3"
  },
  "language_info": {
   "codemirror_mode": {
    "name": "ipython",
    "version": 3
   },
   "file_extension": ".py",
   "mimetype": "text/x-python",
   "name": "python",
   "nbconvert_exporter": "python",
   "pygments_lexer": "ipython3",
   "version": "3.13.2"
  }
 },
 "nbformat": 4,
 "nbformat_minor": 2
}
