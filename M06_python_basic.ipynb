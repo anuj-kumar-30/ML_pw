{
 "cells": [
  {
   "cell_type": "markdown",
   "metadata": {},
   "source": [
    "### Q1. Create one variable containing following type of data:\n",
    "<br>(i) string\n",
    "<br>(ii) list\n",
    "<br>(iii) float\n",
    "<br>(iv) tuple\n",
    "\n",
    "### Q2. Given are some following variables containing data:\n",
    "<br>(i) var1 = ‘ ‘\n",
    "<br>(ii) var2 = ‘[ DS , ML , Python]’\n",
    "<br>(iii) var3 = [ ‘DS’ , ’ML’ , ‘Python’ ]\n",
    "<br>(iv) var4 = 1.\n",
    "<br>What will be the data type of the above given variable.\n",
    "\n",
    "### Q3. Explain the use of the following operators using an example:\n",
    "<br>(i) /\n",
    "<br>(ii) %\n",
    "<br>(iii) //\n",
    "<br>(iv) **\n",
    "\n",
    "### Q4. Create a list of length 10 of your choice containing multiple types of data. Using for loop print the element and its data type.\n",
    "\n",
    "### Q5. Using a while loop, verify if the number A is purely divisible by number B and if so then how many times it can be divisible.\n",
    "\n",
    "### Q6. Create a list containing 25 int type data. Using for loop and if-else condition print if the element is divisible by 3 or not.\n",
    "\n",
    "### Q7. What do you understand about mutable and immutable data types? Give examples for both showing this property.\n"
   ]
  },
  {
   "cell_type": "markdown",
   "metadata": {
    "vscode": {
     "languageId": "plaintext"
    }
   },
   "source": [
    "### Q1. Create one variable containing following type of data:\n",
    "(i) string\n",
    "<br>(ii) list\n",
    "<br>(iii) float\n",
    "<br>(iv) tuple"
   ]
  },
  {
   "cell_type": "code",
   "execution_count": null,
   "metadata": {},
   "outputs": [],
   "source": [
    "# 1\n",
    "name = 'anuj'\n",
    "# 2\n",
    "lt = ['anuj', 1, 2.3, (1,2,3)]\n",
    "# 3\n",
    "dec = 1.3\n",
    "# 4\n",
    "tup = (1,2,3,3,22,2,2)"
   ]
  },
  {
   "cell_type": "markdown",
   "metadata": {},
   "source": [
    "### Q2. Given are some following variables containing data:\n",
    "(i) var1 = ‘ ‘\n",
    "<br>(ii) var2 = ‘[ DS , ML , Python]’\n",
    "<br>(iii) var3 = [ ‘DS’ , ’ML’ , ‘Python’ ]\n",
    "<br>(iv) var4 = 1.\n",
    "<br>What will be the data type of the above given variable."
   ]
  },
  {
   "cell_type": "code",
   "execution_count": 2,
   "metadata": {},
   "outputs": [
    {
     "name": "stdout",
     "output_type": "stream",
     "text": [
      "<class 'str'>\n",
      "<class 'list'>\n",
      "<class 'list'>\n",
      "<class 'float'>\n"
     ]
    }
   ],
   "source": [
    "### Q2. Given are some following variables containing data:\n",
    "var1 = ' '\n",
    "var2 = ['DS', 'ML', 'Python']\n",
    "var3 = ['DS', 'ML', 'Python']\n",
    "var4 = 1.\n",
    "# 1\n",
    "print(type(var1))\n",
    "# 2\n",
    "print(type(var2))\n",
    "# 3\n",
    "print(type(var3))\n",
    "# 4\n",
    "print(type(var4))"
   ]
  },
  {
   "cell_type": "markdown",
   "metadata": {},
   "source": [
    "### Q3. Explain the use of the following operators using an example:\n",
    "(i) /\n",
    "<br>(ii) %\n",
    "<br>(iii) //\n",
    "<br>(iv) **"
   ]
  },
  {
   "cell_type": "code",
   "execution_count": 3,
   "metadata": {},
   "outputs": [],
   "source": [
    "# (i) / : float division\n",
    "# (ii) % : modulus\n",
    "# (iii) // : floor division\n",
    "# (iv) ** : exponentiation"
   ]
  },
  {
   "cell_type": "markdown",
   "metadata": {},
   "source": [
    "### Q4. Create a list of length 10 of your choice containing multiple types of data. Using for loop print the element and its data type."
   ]
  },
  {
   "cell_type": "code",
   "execution_count": 4,
   "metadata": {},
   "outputs": [
    {
     "name": "stdout",
     "output_type": "stream",
     "text": [
      "1 <class 'int'>\n",
      "2.3 <class 'float'>\n",
      "anuj <class 'str'>\n",
      "(1, 2, 3) <class 'tuple'>\n",
      "[1, 2, 3] <class 'list'>\n",
      "{1, 2, 3} <class 'set'>\n",
      "{1: 2, 2: 3} <class 'dict'>\n",
      "True <class 'bool'>\n",
      "False <class 'bool'>\n",
      "None <class 'NoneType'>\n"
     ]
    }
   ],
   "source": [
    "# \n",
    "lt = [1, 2.3, 'anuj', (1,2,3), [1,2,3], {1,2,3}, {1:2, 2:3}, True, False, None]\n",
    "for i in lt:\n",
    "    print(i, type(i))"
   ]
  },
  {
   "cell_type": "markdown",
   "metadata": {},
   "source": [
    "### Q5. Using a while loop, verify if the number A is purely divisible by number B and if so then how many times it can be divisible."
   ]
  },
  {
   "cell_type": "code",
   "execution_count": 5,
   "metadata": {},
   "outputs": [
    {
     "name": "stdout",
     "output_type": "stream",
     "text": [
      "10 is divisible by 2\n",
      "5\n"
     ]
    }
   ],
   "source": [
    "# \n",
    "a = 10\n",
    "b = 2\n",
    "while a % b == 0:\n",
    "    print(a, 'is divisible by', b)\n",
    "    a = a // b\n",
    "    print(a)"
   ]
  },
  {
   "cell_type": "markdown",
   "metadata": {},
   "source": [
    "### Q6. Create a list containing 25 int type data. Using for loop and if-else condition print if the element is divisible by 3 or not."
   ]
  },
  {
   "cell_type": "code",
   "execution_count": 9,
   "metadata": {},
   "outputs": [
    {
     "name": "stdout",
     "output_type": "stream",
     "text": [
      "46 is not divisible by 3\n",
      "79 is not divisible by 3\n",
      "39 is divisible by 3\n",
      "55 is not divisible by 3\n",
      "99 is divisible by 3\n",
      "61 is not divisible by 3\n",
      "38 is not divisible by 3\n",
      "67 is not divisible by 3\n",
      "68 is not divisible by 3\n",
      "83 is not divisible by 3\n",
      "10 is not divisible by 3\n",
      "51 is divisible by 3\n",
      "6 is divisible by 3\n",
      "48 is divisible by 3\n",
      "78 is divisible by 3\n",
      "60 is divisible by 3\n",
      "18 is divisible by 3\n",
      "54 is divisible by 3\n",
      "73 is not divisible by 3\n",
      "2 is not divisible by 3\n",
      "20 is not divisible by 3\n",
      "76 is not divisible by 3\n",
      "73 is not divisible by 3\n",
      "17 is not divisible by 3\n",
      "33 is divisible by 3\n"
     ]
    }
   ],
   "source": [
    "# \n",
    "import random\n",
    "lt = [random.randint(1, 100) for i in range(25)]\n",
    "for i in lt:\n",
    "    if i % 3 == 0:\n",
    "        print(i, 'is divisible by 3')\n",
    "    else:\n",
    "        print(i, 'is not divisible by 3')\n"
   ]
  },
  {
   "cell_type": "code",
   "execution_count": null,
   "metadata": {},
   "outputs": [],
   "source": []
  }
 ],
 "metadata": {
  "kernelspec": {
   "display_name": "Python 3",
   "language": "python",
   "name": "python3"
  },
  "language_info": {
   "codemirror_mode": {
    "name": "ipython",
    "version": 3
   },
   "file_extension": ".py",
   "mimetype": "text/x-python",
   "name": "python",
   "nbconvert_exporter": "python",
   "pygments_lexer": "ipython3",
   "version": "3.13.1"
  }
 },
 "nbformat": 4,
 "nbformat_minor": 2
}
