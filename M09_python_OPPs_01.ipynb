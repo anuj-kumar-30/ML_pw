{
 "cells": [
  {
   "cell_type": "markdown",
   "metadata": {
    "vscode": {
     "languageId": "plaintext"
    }
   },
   "source": [
    "### Q1. Explain Class and Object with respect to Object-Oriented Programming. Give a suitable example."
   ]
  },
  {
   "cell_type": "code",
   "execution_count": 1,
   "metadata": {},
   "outputs": [
    {
     "name": "stdout",
     "output_type": "stream",
     "text": [
      "\n",
      "Demonstrating car1 operations:\n",
      "The Toyota Camry is now moving at 60 km/h\n",
      "The Toyota Camry has slowed down to 30 km/h\n",
      "\n",
      "Demonstrating car2 operations:\n",
      "The Honda Civic is now moving at 70 km/h\n",
      "The Honda Civic has slowed down to 30 km/h\n"
     ]
    }
   ],
   "source": [
    "# Class is a blueprint or template for creating objects that share similar properties and methods\n",
    "# Object is an instance of a class that contains real data and can perform actions\n",
    "\n",
    "# Example: Creating a class called 'Car' with properties and methods\n",
    "class Car:\n",
    "    # Constructor method to initialize object properties\n",
    "    def __init__(self, brand, model, year):\n",
    "        self.brand = brand  # Property to store car brand\n",
    "        self.model = model  # Property to store car model\n",
    "        self.year = year    # Property to store manufacturing year\n",
    "        self.speed = 0      # Property to track current speed\n",
    "    \n",
    "    # Method to accelerate the car\n",
    "    def accelerate(self, speed_increase):\n",
    "        self.speed += speed_increase\n",
    "        print(f\"The {self.brand} {self.model} is now moving at {self.speed} km/h\")\n",
    "    \n",
    "    # Method to brake the car\n",
    "    def brake(self, speed_decrease):\n",
    "        self.speed = max(0, self.speed - speed_decrease)  # Speed cannot go below 0\n",
    "        print(f\"The {self.brand} {self.model} has slowed down to {self.speed} km/h\")\n",
    "\n",
    "# Creating objects (instances) of the Car class\n",
    "car1 = Car(\"Toyota\", \"Camry\", 2022)  # First car object\n",
    "car2 = Car(\"Honda\", \"Civic\", 2023)   # Second car object\n",
    "\n",
    "# Using object methods\n",
    "print(\"\\nDemonstrating car1 operations:\")\n",
    "car1.accelerate(60)  # Accelerate car1\n",
    "car1.brake(30)      # Brake car1\n",
    "\n",
    "print(\"\\nDemonstrating car2 operations:\")\n",
    "car2.accelerate(70)  # Accelerate car2\n",
    "car2.brake(40)      # Brake car2\n"
   ]
  },
  {
   "cell_type": "markdown",
   "metadata": {},
   "source": [
    "### Q2. Name the four pillars of OOPs."
   ]
  },
  {
   "cell_type": "code",
   "execution_count": 2,
   "metadata": {},
   "outputs": [],
   "source": [
    "# The four pillars of Object-Oriented Programming (OOPs) are:\n",
    "\n",
    "# 1. Encapsulation\n",
    "#    - Bundling data and methods that operate on that data within a single unit (class)\n",
    "#    - Restricting direct access to some object's components\n",
    "\n",
    "# 2. Inheritance \n",
    "#    - Mechanism that allows a class to inherit properties and methods from another class\n",
    "#    - Enables code reuse and establishes relationships between classes\n",
    "\n",
    "# 3. Polymorphism\n",
    "#    - Ability of objects to take multiple forms\n",
    "#    - Same interface for different underlying forms (data types/classes)\n",
    "\n",
    "# 4. Abstraction\n",
    "#    - Hiding complex implementation details and showing only necessary features\n",
    "#    - Reduces complexity by hiding unnecessary details\n"
   ]
  },
  {
   "cell_type": "markdown",
   "metadata": {},
   "source": [
    "### Q4. Why self is used in OOPs?"
   ]
  },
  {
   "cell_type": "code",
   "execution_count": 3,
   "metadata": {},
   "outputs": [],
   "source": [
    "# 'self' in Object-Oriented Programming is used for several important reasons:\n",
    "\n",
    "# 1. Instance Reference\n",
    "#    - 'self' refers to the current instance of the class\n",
    "#    - Helps distinguish instance variables from local variables\n",
    "#    - Allows access to instance attributes and methods\n",
    "\n",
    "# Example:\n",
    "class Person:\n",
    "    def __init__(self, name):\n",
    "        self.name = name  # 'self.name' is instance variable\n",
    "        \n",
    "    def greet(self):\n",
    "        print(f\"Hello, my name is {self.name}\")  # Accessing instance variable using self\n",
    "\n",
    "# 2. Method Definition\n",
    "#    - First parameter in instance method definitions\n",
    "#    - Automatically passed by Python when method is called\n",
    "#    - Enables method to operate on instance data\n",
    "\n",
    "# 3. Instance State Management\n",
    "#    - Maintains object state throughout its lifecycle\n",
    "#    - Allows methods to access and modify object attributes\n",
    "\n",
    "# 4. Convention and Readability\n",
    "#    - While 'self' is just a convention (any valid name works)\n",
    "#    - Using 'self' improves code readability and maintainability\n",
    "#    - Follows Python's standard naming convention\n"
   ]
  },
  {
   "cell_type": "markdown",
   "metadata": {},
   "source": [
    "### Q5. What is inheritance? Give an example for each type of inheritance."
   ]
  },
  {
   "cell_type": "code",
   "execution_count": 4,
   "metadata": {},
   "outputs": [
    {
     "name": "stdout",
     "output_type": "stream",
     "text": [
      "\n",
      "Single Inheritance Example:\n",
      "Woof!\n",
      "\n",
      "Multiple Inheritance Example:\n",
      "I'm a duck - I can both fly and swim!\n",
      "I can fly\n",
      "I can swim\n",
      "\n",
      "Multilevel Inheritance Example:\n",
      "Grandparent method\n",
      "Parent method\n",
      "Child method\n"
     ]
    }
   ],
   "source": [
    "# Inheritance is a fundamental concept in OOP where a class can inherit attributes and methods from another class.\n",
    "# The class that inherits is called the child/derived class, and the class being inherited from is the parent/base class.\n",
    "\n",
    "# Types of Inheritance:\n",
    "\n",
    "# 1. Single Inheritance\n",
    "#    - A class inherits from only one parent class\n",
    "class Animal:\n",
    "    def __init__(self, species):\n",
    "        self.species = species\n",
    "    \n",
    "    def make_sound(self):\n",
    "        print(\"Some sound\")\n",
    "\n",
    "class Dog(Animal):\n",
    "    def __init__(self):\n",
    "        super().__init__(\"Canine\")\n",
    "    \n",
    "    def make_sound(self):\n",
    "        print(\"Woof!\")\n",
    "\n",
    "# 2. Multiple Inheritance\n",
    "#    - A class inherits from multiple parent classes\n",
    "class Flying:\n",
    "    def fly(self):\n",
    "        print(\"I can fly\")\n",
    "\n",
    "class Swimming:\n",
    "    def swim(self):\n",
    "        print(\"I can swim\")\n",
    "\n",
    "class Duck(Flying, Swimming):\n",
    "    def __init__(self):\n",
    "        print(\"I'm a duck - I can both fly and swim!\")\n",
    "\n",
    "# 3. Multilevel Inheritance\n",
    "#    - Forms a chain of inheritance\n",
    "class Grandparent:\n",
    "    def grandparent_method(self):\n",
    "        print(\"Grandparent method\")\n",
    "\n",
    "class Parent(Grandparent):\n",
    "    def parent_method(self):\n",
    "        print(\"Parent method\")\n",
    "\n",
    "class Child(Parent):\n",
    "    def child_method(self):\n",
    "        print(\"Child method\")\n",
    "\n",
    "# 4. Hierarchical Inheritance\n",
    "#    - Multiple classes inherit from a single base class\n",
    "class Vehicle:\n",
    "    def __init__(self, brand):\n",
    "        self.brand = brand\n",
    "\n",
    "class Car(Vehicle):\n",
    "    def type(self):\n",
    "        print(\"I'm a car\")\n",
    "\n",
    "class Motorcycle(Vehicle):\n",
    "    def type(self):\n",
    "        print(\"I'm a motorcycle\")\n",
    "\n",
    "# 5. Hybrid Inheritance\n",
    "#    - Combination of multiple inheritance types\n",
    "class A:\n",
    "    def method_a(self):\n",
    "        print(\"Method A\")\n",
    "\n",
    "class B(A):\n",
    "    def method_b(self):\n",
    "        print(\"Method B\")\n",
    "\n",
    "class C(A):\n",
    "    def method_c(self):\n",
    "        print(\"Method C\")\n",
    "\n",
    "class D(B, C):\n",
    "    def method_d(self):\n",
    "        print(\"Method D\")\n",
    "\n",
    "# Examples of using these classes:\n",
    "print(\"\\nSingle Inheritance Example:\")\n",
    "dog = Dog()\n",
    "dog.make_sound()  # Output: Woof!\n",
    "\n",
    "print(\"\\nMultiple Inheritance Example:\")\n",
    "duck = Duck()\n",
    "duck.fly()  # Output: I can fly\n",
    "duck.swim()  # Output: I can swim\n",
    "\n",
    "print(\"\\nMultilevel Inheritance Example:\")\n",
    "child = Child()\n",
    "child.grandparent_method()  # Output: Grandparent method\n",
    "child.parent_method()       # Output: Parent method\n",
    "child.child_method()        # Output: Child method\n"
   ]
  },
  {
   "cell_type": "code",
   "execution_count": null,
   "metadata": {},
   "outputs": [],
   "source": []
  }
 ],
 "metadata": {
  "kernelspec": {
   "display_name": "Python 3",
   "language": "python",
   "name": "python3"
  },
  "language_info": {
   "codemirror_mode": {
    "name": "ipython",
    "version": 3
   },
   "file_extension": ".py",
   "mimetype": "text/x-python",
   "name": "python",
   "nbconvert_exporter": "python",
   "pygments_lexer": "ipython3",
   "version": "3.11.9"
  }
 },
 "nbformat": 4,
 "nbformat_minor": 2
}
