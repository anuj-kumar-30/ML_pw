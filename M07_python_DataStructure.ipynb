{
 "cells": [
  {
   "cell_type": "markdown",
   "metadata": {},
   "source": [
    "### Q1. How do you comment code in Python? What are the different types of comments?"
   ]
  },
  {
   "cell_type": "code",
   "execution_count": 3,
   "metadata": {},
   "outputs": [
    {
     "name": "stdout",
     "output_type": "stream",
     "text": [
      "hello\n"
     ]
    }
   ],
   "source": [
    "# this is comment\n",
    "'''\n",
    "this is multiline comment\n",
    "2nd line\n",
    "'''\n",
    "\n",
    "print('hello')"
   ]
  },
  {
   "cell_type": "markdown",
   "metadata": {},
   "source": [
    "### Q2. What are variables in Python? How do you declare and assign values to variables?"
   ]
  },
  {
   "cell_type": "code",
   "execution_count": 4,
   "metadata": {},
   "outputs": [
    {
     "name": "stdout",
     "output_type": "stream",
     "text": [
      "x: Now I'm a string\n",
      "name: John\n",
      "is_valid: True\n",
      "price: 19.99\n",
      "a: 1 b: 2 c: 3\n"
     ]
    }
   ],
   "source": [
    "# Variables are containers for storing data values\n",
    "# Python has no command for declaring variables - they are created when you assign a value\n",
    "\n",
    "# Declaring and assigning variables:\n",
    "x = 5  # integer\n",
    "name = \"John\"  # string \n",
    "is_valid = True  # boolean\n",
    "price = 19.99  # float\n",
    "\n",
    "# Multiple assignment\n",
    "a, b, c = 1, 2, 3\n",
    "\n",
    "# You can change variable type after declaration\n",
    "x = \"Now I'm a string\"\n",
    "\n",
    "# Print variables\n",
    "print(\"x:\", x)\n",
    "print(\"name:\", name) \n",
    "print(\"is_valid:\", is_valid)\n",
    "print(\"price:\", price)\n",
    "print(\"a:\", a, \"b:\", b, \"c:\", c)\n"
   ]
  },
  {
   "cell_type": "markdown",
   "metadata": {},
   "source": [
    "### Q3. How do you convert one data type to another in Python?"
   ]
  },
  {
   "cell_type": "code",
   "execution_count": 5,
   "metadata": {},
   "outputs": [
    {
     "name": "stdout",
     "output_type": "stream",
     "text": [
      "Integer conversions: 123 123 1\n",
      "Float conversions: 123.45 123.0\n",
      "String conversions: 123 123.45 True\n",
      "Boolean conversions: True True False\n"
     ]
    }
   ],
   "source": [
    "# Python provides built-in functions for type conversion (type casting)\n",
    "\n",
    "# Convert to integer\n",
    "num_str = \"123\"\n",
    "num_float = 123.45\n",
    "num_bool = True\n",
    "\n",
    "int_from_str = int(num_str)      # String to int\n",
    "int_from_float = int(num_float)  # Float to int (truncates decimal)\n",
    "int_from_bool = int(num_bool)    # Bool to int (True=1, False=0)\n",
    "\n",
    "# Convert to float\n",
    "str_num = \"123.45\"\n",
    "int_num = 123\n",
    "\n",
    "float_from_str = float(str_num)  # String to float\n",
    "float_from_int = float(int_num)  # Int to float\n",
    "\n",
    "# Convert to string\n",
    "num = 123\n",
    "flt = 123.45\n",
    "bool_val = True\n",
    "\n",
    "str_from_int = str(num)      # Int to string\n",
    "str_from_float = str(flt)    # Float to string\n",
    "str_from_bool = str(bool_val)  # Bool to string\n",
    "\n",
    "# Convert to boolean\n",
    "bool_from_int = bool(1)      # Any non-zero number is True\n",
    "bool_from_str = bool(\"True\") # Non-empty string is True\n",
    "bool_from_float = bool(0.0)  # Zero is False\n",
    "\n",
    "# Print results\n",
    "print(\"Integer conversions:\", int_from_str, int_from_float, int_from_bool)\n",
    "print(\"Float conversions:\", float_from_str, float_from_int)\n",
    "print(\"String conversions:\", str_from_int, str_from_float, str_from_bool)\n",
    "print(\"Boolean conversions:\", bool_from_int, bool_from_str, bool_from_float)\n"
   ]
  },
  {
   "cell_type": "markdown",
   "metadata": {},
   "source": [
    "### Q4. How do you write and execute a Python script from the command line?"
   ]
  },
  {
   "cell_type": "code",
   "execution_count": 6,
   "metadata": {},
   "outputs": [
    {
     "name": "stdout",
     "output_type": "stream",
     "text": [
      "# Example content of script.py:\n",
      "print(\"Hello from Python script!\")\n",
      "name = input(\"Enter your name: \")\n",
      "print(f\"Hello {name}!\")\n",
      "\n",
      "# Command line execution methods:\n",
      "python script.py       # Using python interpreter\n",
      "python3 script.py      # Specifically using Python 3\n",
      "./script.py           # If script has executable permission (Unix/Linux)\n",
      "\n",
      "# Example accessing command line arguments:\n",
      "import sys\n",
      "print(sys.argv[0])    # Script name\n",
      "print(sys.argv[1:])   # Arguments passed to script\n",
      "\n",
      "# Common Python command line flags:\n",
      "python -c 'print(\"Hello\")'  # Execute Python code inline\n",
      "python -m module_name     # Run a module as a script\n",
      "python -i script.py       # Run script and enter interactive mode\n",
      "python -V                 # Display Python version\n"
     ]
    }
   ],
   "source": [
    "# To write and execute a Python script from the command line:\n",
    "\n",
    "# 1. Create a Python file (e.g., script.py) using any text editor\n",
    "print(\"# Example content of script.py:\")\n",
    "print('print(\"Hello from Python script!\")')\n",
    "print('name = input(\"Enter your name: \")')\n",
    "print('print(f\"Hello {name}!\")')\n",
    "\n",
    "# 2. Execute the script using one of these methods:\n",
    "print(\"\\n# Command line execution methods:\")\n",
    "print(\"python script.py       # Using python interpreter\")\n",
    "print(\"python3 script.py      # Specifically using Python 3\")\n",
    "print(\"./script.py           # If script has executable permission (Unix/Linux)\")\n",
    "\n",
    "# 3. Command line arguments can be accessed using sys.argv\n",
    "print(\"\\n# Example accessing command line arguments:\")\n",
    "print(\"import sys\")\n",
    "print(\"print(sys.argv[0])    # Script name\")\n",
    "print(\"print(sys.argv[1:])   # Arguments passed to script\")\n",
    "\n",
    "# Note: When running from command line you can also use flags:\n",
    "print(\"\\n# Common Python command line flags:\")\n",
    "print(\"python -c 'print(\\\"Hello\\\")'  # Execute Python code inline\")\n",
    "print(\"python -m module_name     # Run a module as a script\")\n",
    "print(\"python -i script.py       # Run script and enter interactive mode\")\n",
    "print(\"python -V                 # Display Python version\")\n"
   ]
  },
  {
   "cell_type": "markdown",
   "metadata": {},
   "source": [
    "### Q5. Given a list my_list = [1, 2, 3, 4, 5], write the code to slice the list and obtain the sub-list [2, 3]."
   ]
  },
  {
   "cell_type": "code",
   "execution_count": 7,
   "metadata": {},
   "outputs": [
    {
     "name": "stdout",
     "output_type": "stream",
     "text": [
      "Original list: [1, 2, 3, 4, 5]\n",
      "Sub-list [2, 3]: [2, 3]\n"
     ]
    }
   ],
   "source": [
    "# Create the original list\n",
    "my_list = [1, 2, 3, 4, 5]\n",
    "\n",
    "# Slice the list to get [2, 3]\n",
    "# Using index 1:3 gets elements at index 1 and 2 (up to but not including 3)\n",
    "sub_list = my_list[1:3]\n",
    "\n",
    "print(\"Original list:\", my_list)\n",
    "print(\"Sub-list [2, 3]:\", sub_list)\n"
   ]
  },
  {
   "cell_type": "markdown",
   "metadata": {},
   "source": [
    "### Q6. What is a complex number in mathematics, and how is it represented in Python?"
   ]
  },
  {
   "cell_type": "code",
   "execution_count": 8,
   "metadata": {},
   "outputs": [
    {
     "name": "stdout",
     "output_type": "stream",
     "text": [
      "Complex number z1: (3+4j)\n",
      "Real part of z1: 3.0\n",
      "Imaginary part of z1: 4.0\n",
      "\n",
      "Complex number operations:\n",
      "Addition: (3+5j)\n",
      "Multiplication: (-4+7j)\n",
      "Absolute value (magnitude) of z1: 5.0\n",
      "Complex conjugate of z1: (3-4j)\n"
     ]
    }
   ],
   "source": [
    "# A complex number is a number that combines a real part and an imaginary part\n",
    "# In mathematics, it's written as: a + bi, where:\n",
    "# - a is the real part\n",
    "# - b is the imaginary part\n",
    "# - i is the imaginary unit (square root of -1)\n",
    "\n",
    "# In Python, we use 'j' instead of 'i' for the imaginary unit\n",
    "z1 = 3 + 4j  # Creating a complex number directly\n",
    "z2 = complex(3, 4)  # Creating using complex() function\n",
    "\n",
    "print(\"Complex number z1:\", z1)\n",
    "print(\"Real part of z1:\", z1.real)\n",
    "print(\"Imaginary part of z1:\", z1.imag)\n",
    "\n",
    "# Basic operations with complex numbers\n",
    "z3 = 1 + 2j\n",
    "z4 = 2 + 3j\n",
    "\n",
    "print(\"\\nComplex number operations:\")\n",
    "print(\"Addition:\", z3 + z4)\n",
    "print(\"Multiplication:\", z3 * z4)\n",
    "print(\"Absolute value (magnitude) of z1:\", abs(z1))\n",
    "print(\"Complex conjugate of z1:\", z1.conjugate())\n"
   ]
  },
  {
   "cell_type": "markdown",
   "metadata": {},
   "source": [
    "### Q7. What is the correct way to declare a variable named age and assign the value 25 to it?"
   ]
  },
  {
   "cell_type": "code",
   "execution_count": 9,
   "metadata": {},
   "outputs": [
    {
     "name": "stdout",
     "output_type": "stream",
     "text": [
      "Age: 25\n",
      "Type of age variable: <class 'int'>\n"
     ]
    }
   ],
   "source": [
    "# In Python, we can directly assign a value to a variable using the = operator\n",
    "age = 25\n",
    "\n",
    "# Print the variable to verify\n",
    "print(\"Age:\", age)\n",
    "\n",
    "# We can also check the type of the variable\n",
    "print(\"Type of age variable:\", type(age))\n"
   ]
  },
  {
   "cell_type": "markdown",
   "metadata": {},
   "source": [
    "### Q8. Declare a variable named price and assign the value 9.99 to it. What data type does this variable belong to?"
   ]
  },
  {
   "cell_type": "code",
   "execution_count": 10,
   "metadata": {},
   "outputs": [
    {
     "name": "stdout",
     "output_type": "stream",
     "text": [
      "Price: 9.99\n",
      "Type of price variable: <class 'float'>\n"
     ]
    }
   ],
   "source": [
    "# Declare the price variable with value 9.99\n",
    "price = 9.99\n",
    "\n",
    "# Print the variable and its type\n",
    "print(\"Price:\", price)\n",
    "print(\"Type of price variable:\", type(price))\n",
    "\n",
    "# The price variable belongs to the float data type because it contains a decimal point\n"
   ]
  },
  {
   "cell_type": "markdown",
   "metadata": {},
   "source": [
    "### Q9. Create a variable named name and assign your full name to it as a string. How would you print the value of this variable?"
   ]
  },
  {
   "cell_type": "code",
   "execution_count": 13,
   "metadata": {},
   "outputs": [
    {
     "name": "stdout",
     "output_type": "stream",
     "text": [
      "Name: John Doe\n",
      "John Doe\n",
      "My name is John Doe\n"
     ]
    }
   ],
   "source": [
    "# Create a variable named 'name' and assign a full name as a string\n",
    "name = \"John Doe\"  # Replace with your actual name\n",
    "\n",
    "# Print the value of the name variable\n",
    "print(\"Name:\", name)\n",
    "\n",
    "# We can also print it directly without a label\n",
    "print(name)\n",
    "\n",
    "# Or use an f-string for formatting\n",
    "print(f\"My name is {name}\")\n"
   ]
  },
  {
   "cell_type": "markdown",
   "metadata": {},
   "source": [
    "### Q10. Given the string \"Hello, World!\", extract the substring \"World\"."
   ]
  },
  {
   "cell_type": "code",
   "execution_count": 14,
   "metadata": {},
   "outputs": [
    {
     "name": "stdout",
     "output_type": "stream",
     "text": [
      "Original string: Hello, World!\n",
      "Extracted substring: World\n"
     ]
    }
   ],
   "source": [
    "# Create the original string\n",
    "text = \"Hello, World!\"\n",
    "\n",
    "# Extract the substring \"World\" using string slicing\n",
    "# The substring starts at index 7 and ends at index 12\n",
    "world = text[7:12]\n",
    "\n",
    "# Print the original string and extracted substring\n",
    "print(\"Original string:\", text)\n",
    "print(\"Extracted substring:\", world)\n"
   ]
  },
  {
   "cell_type": "markdown",
   "metadata": {},
   "source": [
    "### Q11. Create a variable named \"is_student\" and assign it a boolean value indicating whether you are currently a student or not."
   ]
  },
  {
   "cell_type": "code",
   "execution_count": 15,
   "metadata": {},
   "outputs": [
    {
     "name": "stdout",
     "output_type": "stream",
     "text": [
      "Am I a student? True\n",
      "Variable type: <class 'bool'>\n"
     ]
    }
   ],
   "source": [
    "# Create a boolean variable indicating student status\n",
    "is_student = True  # Set to True if you are a student, False if not\n",
    "\n",
    "# Print the value and its type\n",
    "print(\"Am I a student?\", is_student)\n",
    "print(\"Variable type:\", type(is_student))\n"
   ]
  },
  {
   "cell_type": "code",
   "execution_count": null,
   "metadata": {},
   "outputs": [],
   "source": []
  }
 ],
 "metadata": {
  "kernelspec": {
   "display_name": "Python 3",
   "language": "python",
   "name": "python3"
  },
  "language_info": {
   "codemirror_mode": {
    "name": "ipython",
    "version": 3
   },
   "file_extension": ".py",
   "mimetype": "text/x-python",
   "name": "python",
   "nbconvert_exporter": "python",
   "pygments_lexer": "ipython3",
   "version": "3.13.1"
  }
 },
 "nbformat": 4,
 "nbformat_minor": 2
}
