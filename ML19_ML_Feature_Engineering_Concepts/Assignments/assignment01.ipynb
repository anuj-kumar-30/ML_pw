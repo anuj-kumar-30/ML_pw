{
 "cells": [
  {
   "cell_type": "markdown",
   "metadata": {},
   "source": [
    "### Q1: Explain the following with an example:\n",
    "1) Artificial Intelligence\n",
    "2) Machine Learning,\n",
    "3) Deep Learning"
   ]
  },
  {
   "cell_type": "markdown",
   "metadata": {},
   "source": [
    "**1. AI (Artificial Intelligence)**\n",
    "\n",
    "- **Definition:** The broadest concept — AI is creating machines or systems that can perform tasks that typically require human intelligence.\n",
    "- **Examples:** Speech recognition (Siri, Alexa), game playing (Chess, Go), recommendation systems.\n",
    "\n",
    "\n",
    "**2. ML (Machine Learning)**\n",
    "\n",
    "- **Definition:** A **subset of AI**. ML refers to systems that can **learn from data** and **improve over time** without being explicitly programmed for every rule.\n",
    "- **Examples:** Spam email detection, image recognition, and fraud detection.\n",
    "\n",
    "\n",
    "**3. DL (Deep Learning)**\n",
    "\n",
    "- **Definition:** A **subset of ML**. It uses **neural networks with many layers** (hence “deep”) to model complex patterns in large data.\n",
    "- **Examples:** Self-driving cars (vision systems), voice assistants, and facial recognition.\n",
    "\n",
    "\n",
    "**4. DS (Data Science)**\n",
    "\n",
    "- **Definition:** A broader discipline that combines **statistics, data analysis, and domain expertise** to extract insights from data. Data Science often uses ML and DL as tools.\n",
    "- **Examples:** Business intelligence, data-driven decision making, predictive analytics."
   ]
  },
  {
   "cell_type": "markdown",
   "metadata": {},
   "source": [
    "### Q2: What is supervised learning? List some examples of supervised learning."
   ]
  },
  {
   "cell_type": "code",
   "execution_count": null,
   "metadata": {
    "vscode": {
     "languageId": "plaintext"
    }
   },
   "outputs": [],
   "source": []
  }
 ],
 "metadata": {
  "language_info": {
   "name": "python"
  }
 },
 "nbformat": 4,
 "nbformat_minor": 2
}
