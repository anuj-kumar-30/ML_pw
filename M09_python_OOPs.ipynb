{
 "cells": [
  {
   "cell_type": "markdown",
   "metadata": {},
   "source": [
    "### Q1, Create a vehicle class with an init method having instance variables as name_of_vehicle, max_speed and average_of_vehicle."
   ]
  },
  {
   "cell_type": "code",
   "execution_count": 1,
   "metadata": {},
   "outputs": [],
   "source": [
    "class vehicle:\n",
    "    def __init__(self, name_of_vechile, max_speed, avg_of_vechicle):\n",
    "        self.name_of_vehicle = name_of_vechile\n",
    "        self.max_speed = max_speed\n",
    "        self.avg_of_vehicle = avg_of_vechicle\n",
    "    "
   ]
  },
  {
   "cell_type": "code",
   "execution_count": 2,
   "metadata": {},
   "outputs": [],
   "source": [
    "v1 = vehicle('Pulsar N160', 150, 50)"
   ]
  },
  {
   "cell_type": "code",
   "execution_count": 4,
   "metadata": {},
   "outputs": [
    {
     "data": {
      "text/plain": [
       "(50, 'Pulsar N160', 150)"
      ]
     },
     "execution_count": 4,
     "metadata": {},
     "output_type": "execute_result"
    }
   ],
   "source": [
    "v1.avg_of_vehicle, v1.name_of_vehicle, v1.max_speed"
   ]
  },
  {
   "cell_type": "markdown",
   "metadata": {},
   "source": [
    "### Q2. Create a child class car from the vehicle class created in Que 1, which will inherit the vehicle class.\n",
    "Create a method named seating_capacity which takes capacity as an argument and returns the name of\n",
    "the vehicle and its seating capacity."
   ]
  },
  {
   "cell_type": "code",
   "execution_count": 5,
   "metadata": {},
   "outputs": [],
   "source": [
    "class car(vehicle):\n",
    "    def seating_capacity(self, capacity):\n",
    "        return self.name_of_vehicle, capacity"
   ]
  },
  {
   "cell_type": "code",
   "execution_count": 7,
   "metadata": {},
   "outputs": [],
   "source": [
    "c1 = car('pulsar', 120, 20)"
   ]
  },
  {
   "cell_type": "code",
   "execution_count": 8,
   "metadata": {},
   "outputs": [
    {
     "data": {
      "text/plain": [
       "('pulsar', 2)"
      ]
     },
     "execution_count": 8,
     "metadata": {},
     "output_type": "execute_result"
    }
   ],
   "source": [
    "c1.seating_capacity(2)"
   ]
  },
  {
   "cell_type": "markdown",
   "metadata": {},
   "source": [
    "### Q3. What is multiple inheritance? Write a python code to demonstrate multiple inheritance."
   ]
  },
  {
   "cell_type": "code",
   "execution_count": null,
   "metadata": {},
   "outputs": [],
   "source": [
    "# Multiple inheritance is when a class inherits from more than one parent class,\n",
    "# allowing it to combine attributes and methods from multiple classes\n",
    "\n",
    "class Parent1:\n",
    "    def method1(self):\n",
    "        return \"This is method from Parent1\"\n",
    "        \n",
    "class Parent2:\n",
    "    def method2(self):\n",
    "        return \"This is method from Parent2\"\n",
    "        \n",
    "class Child(Parent1, Parent2):\n",
    "    def child_method(self):\n",
    "        return \"This is child's own method\"\n",
    "\n",
    "# Create instance of child class\n",
    "c = Child()\n",
    "\n",
    "# Access methods from both parents\n",
    "print(c.method1())\n",
    "print(c.method2()) \n",
    "print(c.child_method())\n"
   ]
  },
  {
   "cell_type": "markdown",
   "metadata": {},
   "source": [
    "### Q4. What are getter and setter in python? Create a class and create a getter and a setter method in this class."
   ]
  },
  {
   "cell_type": "code",
   "execution_count": null,
   "metadata": {},
   "outputs": [],
   "source": [
    "# Getter and setter methods are used to access and modify private attributes of a class\n",
    "# They help in encapsulation by controlling access to class attributes\n",
    "\n",
    "class Student:\n",
    "    def __init__(self, name, age):\n",
    "        # Private attributes with double underscore\n",
    "        self.__name = name  \n",
    "        self.__age = age\n",
    "        \n",
    "    # Getter method to access name\n",
    "    def get_name(self):\n",
    "        return self.__name\n",
    "    \n",
    "    # Setter method to modify name\n",
    "    def set_name(self, name):\n",
    "        if isinstance(name, str):  # Basic validation\n",
    "            self.__name = name\n",
    "        else:\n",
    "            raise ValueError(\"Name must be a string\")\n",
    "            \n",
    "    # Getter method for age    \n",
    "    def get_age(self):\n",
    "        return self.__age\n",
    "    \n",
    "    # Setter method for age\n",
    "    def set_age(self, age):\n",
    "        if isinstance(age, int) and age > 0:  # Basic validation\n",
    "            self.__age = age\n",
    "        else:\n",
    "            raise ValueError(\"Age must be a positive integer\")\n",
    "\n",
    "# Create instance and demonstrate getter/setter\n",
    "student = Student(\"John\", 20)\n",
    "print(f\"Initial name: {student.get_name()}\")\n",
    "\n",
    "# Use setter to change name\n",
    "student.set_name(\"Mike\")\n",
    "print(f\"Updated name: {student.get_name()}\")\n",
    "\n",
    "# Use setter to change age\n",
    "student.set_age(21)\n",
    "print(f\"Updated age: {student.get_age()}\")\n"
   ]
  },
  {
   "cell_type": "markdown",
   "metadata": {},
   "source": [
    "### Q5.What is method overriding in python? Write a python code to demonstrate method overriding."
   ]
  },
  {
   "cell_type": "code",
   "execution_count": null,
   "metadata": {},
   "outputs": [],
   "source": [
    "# Method overriding is when a child class provides a specific implementation for a method that is already defined in its parent class.\n",
    "# This allows the child class to change the behavior of methods inherited from the parent class.\n",
    "\n",
    "class Vehicle:\n",
    "    def __init__(self, name, color):\n",
    "        self.name = name\n",
    "        self.color = color\n",
    "        \n",
    "    def seating_capacity(self):\n",
    "        return \"The seating capacity of a vehicle varies\"\n",
    "        \n",
    "class Car(Vehicle):\n",
    "    def __init__(self, name, color):\n",
    "        super().__init__(name, color)\n",
    "        \n",
    "    def seating_capacity(self):\n",
    "        return f\"The seating capacity of {self.name} car is 5 passengers\"\n",
    "\n",
    "# Create instances and demonstrate method overriding        \n",
    "vehicle = Vehicle(\"Generic\", \"White\")\n",
    "car = Car(\"Honda\", \"Red\")\n",
    "\n",
    "# Call the method on parent class\n",
    "print(vehicle.seating_capacity())\n",
    "\n",
    "# Call the overridden method on child class\n",
    "print(car.seating_capacity())\n"
   ]
  },
  {
   "cell_type": "code",
   "execution_count": 11,
   "metadata": {},
   "outputs": [],
   "source": [
    "class child_class(car):\n",
    "    def seating_capacity(self, x):\n",
    "        return \"this a method overriding\""
   ]
  },
  {
   "cell_type": "code",
   "execution_count": 14,
   "metadata": {},
   "outputs": [],
   "source": [
    "c = child_class('pulsar', 120, 20)"
   ]
  },
  {
   "cell_type": "code",
   "execution_count": 16,
   "metadata": {},
   "outputs": [
    {
     "data": {
      "text/plain": [
       "'this a method overriding'"
      ]
     },
     "execution_count": 16,
     "metadata": {},
     "output_type": "execute_result"
    }
   ],
   "source": [
    "c.seating_capacity(2)"
   ]
  },
  {
   "cell_type": "code",
   "execution_count": null,
   "metadata": {},
   "outputs": [],
   "source": []
  }
 ],
 "metadata": {
  "kernelspec": {
   "display_name": "Python 3",
   "language": "python",
   "name": "python3"
  },
  "language_info": {
   "codemirror_mode": {
    "name": "ipython",
    "version": 3
   },
   "file_extension": ".py",
   "mimetype": "text/x-python",
   "name": "python",
   "nbconvert_exporter": "python",
   "pygments_lexer": "ipython3",
   "version": "3.11.9"
  }
 },
 "nbformat": 4,
 "nbformat_minor": 2
}
